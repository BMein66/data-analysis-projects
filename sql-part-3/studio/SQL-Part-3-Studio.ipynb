{
 "cells": [
  {
   "cell_type": "markdown",
   "metadata": {},
   "source": [
    "# SQL Part 3 Studio\n",
    "\n",
    "Let's practice your SQL querying skills! For each question, work along in the notebook, adding your query and answering the questions.\n",
    "\n",
    "## The Dataset\n",
    "\n",
    "We will be using the Goodbooks-10k dataset from the exercises in the prep work. Feel free reference your previous notebooks.\n",
    "\n",
    "1. The dataset can be found here: [goodbooks-10k](https://www.kaggle.com/zygmunt/goodbooks-10k)\n",
    "1. You can access `BooksDB` in the LaunchCode server.\n",
    "\n",
    "## Business Issue\n",
    "\n",
    "You are an employee at a small independent bookstore and you have been tasked with increasing sales.  You decide to use `BooksDB` to find books and themes to highlight in fun promotions throughout each month and/or season.  We will be starting with March and then you will have a chance to explore another month of your choosing.  We want to come up with a list of promotions to run each month.  If you are looking for ideas, here are some resources on different holidays:\n",
    "\n",
    "- [https://www.calendarr.com/united-states/calendar-2022/](https://www.calendarr.com/united-states/calendar-2022/)\n",
    "- [https://www.holidayinsights.com/moreholidays/](https://www.holidayinsights.com/moreholidays/)\n",
    "    - Click on a month and it will take you to a more detailed page"
   ]
  },
  {
   "cell_type": "markdown",
   "metadata": {},
   "source": [
    "## Part 1:  March - Women's History Month, National Pie Day (3/14), St. Patrick's Day (3/17), Season - Spring"
   ]
  },
  {
   "cell_type": "markdown",
   "metadata": {},
   "source": [
    "### Event 1: Women's History Month\n",
    "\n",
    "Highlight popular women writers based on ratings from `BooksDB` by writing a query that returns `tag_id`, the number of times each `tag_id` is used and the `tag_name`. Use the `GROUP BY` and `HAVING` clause to narrow your focus and try multiple keywords, such as \"woman\" and \"female\"."
   ]
  },
  {
   "cell_type": "code",
   "execution_count": null,
   "metadata": {
    "vscode": {
     "languageId": "sql"
    }
   },
   "outputs": [],
   "source": [
    "-- Return tag_id, tag_name, and # of times each tag_id is used of books with TAG NAMES related to Women's History Month\n",
    "--Included variables from 'book_tags': tag_id (match ON), count\n",
    "--Included variables from 'tags': tag_id (match ON), tag_name\n",
    "--Functions to use: GROUP BY tag_name, and HAVING with women-related keywords\n",
    "SELECT bt.tag_id, t.tag_name, bt.count\n",
    "FROM booksdb.dbo.book_tags bt\n",
    "LEFT JOIN booksdb.dbo.tags t ON bt.tag_id = t.tag_id\n",
    "GROUP BY t.tag_name, bt.tag_id, bt.count\n",
    "HAVING tag_name LIKE 'wom%N' or TAG_NAME LIKE 'FEMINIS%' OR tag_NAME LIKE 'FEMALE'\n",
    "ORDER BY TAG_NAME\n",
    "\n"
   ]
  },
  {
   "cell_type": "markdown",
   "metadata": {},
   "source": [
    "### Event 2: Choose another event from March/Spring\n",
    "\n",
    "Write a query to return authors, titles, ratings, and `tag_id` that you would want to promote during your chosen event."
   ]
  },
  {
   "cell_type": "code",
   "execution_count": null,
   "metadata": {
    "vscode": {
     "languageId": "sql"
    }
   },
   "outputs": [],
   "source": [
    "-- Return authors, titles, ratings, and tag_ids for Pi Day\n",
    "--include variables from 'books': best_book_id (match ON), authors, title, average_rating\n",
    "--include variables from 'book_tags': goodreads_book_id (match ON), tag_id\n",
    "--functions to use: inner join, titles LIKE \"pi\" or \"pie\" (note that there were no titles with 'pi')\n",
    "SELECT bt.tag_id, bt.goodreads_book_id, b.best_book_id, b.authors, b.title, b.average_rating\n",
    "FROM booksdb.dbo.books b\n",
    "LEFT JOIN booksdb.dbo.book_tags bt ON b.best_book_id = goodreads_book_id\n",
    "WHERE title LIKE '% pie %'"
   ]
  },
  {
   "cell_type": "markdown",
   "metadata": {},
   "source": [
    "Record your thoughts about why you wrote the query the way you did."
   ]
  },
  {
   "cell_type": "markdown",
   "metadata": {},
   "source": [
    "# Part 2: Choose Another Month\n",
    "\n",
    "Choose another month and plan at least 2 events / promotions and answer the following questions:\n",
    "1. Which month did you choose?\n",
    "1. What 2 events / promotions are you highlighting?"
   ]
  },
  {
   "cell_type": "markdown",
   "metadata": {},
   "source": [
    "# Part 3: Summarize your Work\n",
    "\n",
    "For each event write at least one query that joins any two tables in `BooksDB` to support your choice and record you thoughts as to why you used the paticlular query. At least one of your queries needs to include a `HAVING` clause."
   ]
  },
  {
   "cell_type": "code",
   "execution_count": null,
   "metadata": {
    "vscode": {
     "languageId": "sql"
    }
   },
   "outputs": [],
   "source": [
    "--PART 2 ANSWERS:  I chose June because of SUMMER SOLSTICE and D-DAY (and b/c it's my birthday and anniversary month ;). I'm going to find books with SUMMER in the title that had a lot of tags (count) to display\n",
    "--include variables from 'books': title, authors, average_rating, best_book_id (match ON)\n",
    "--include variables from 'tags': goodreads_book_id (match ON), count\n",
    "--functions to use: left join, group by, having\n",
    "\n"
   ]
  },
  {
   "cell_type": "markdown",
   "metadata": {},
   "source": [
    "### Summarize Event 1\n",
    "\n",
    "Double-click to edit."
   ]
  },
  {
   "cell_type": "code",
   "execution_count": null,
   "metadata": {
    "vscode": {
     "languageId": "sql"
    }
   },
   "outputs": [],
   "source": [
    "-- Summer solstice\n",
    "SELECT b.title, b.authors, b.average_rating, b.best_book_id, bt.goodreads_book_id, bt.COUNT\n",
    "FROM booksdb.dbo.books b\n",
    "LEFT JOIN booksdb.dbo.book_tags bt ON b.best_book_id = bt.goodreads_book_id\n",
    "GROUP BY b.title, b.average_rating, bt.count, b.authors, b.best_book_id, bt.goodreads_book_id\n",
    "HAVING b.title LIKE '%summer%'\n",
    "ORDER BY b.average_rating DESC, bt.count DESC\n",
    "/*This returned titles sorted by highest avg rating and highest count (# of tags). This is good, but I don't understand why every book is on there multiple times or how to change that."
   ]
  },
  {
   "cell_type": "markdown",
   "metadata": {},
   "source": [
    "### Summarize Event 2\n",
    "\n",
    "Double-click to edit."
   ]
  },
  {
   "cell_type": "code",
   "execution_count": null,
   "metadata": {
    "vscode": {
     "languageId": "sql"
    }
   },
   "outputs": [],
   "source": [
    "SELECT b.title, b.authors, b.average_rating, b.best_book_id, bt.goodreads_book_id, bt.COUNT\n",
    "FROM booksdb.dbo.books b\n",
    "LEFT JOIN booksdb.dbo.book_tags bt ON b.best_book_id = bt.goodreads_book_id\n",
    "GROUP BY b.title, b.average_rating, bt.count, b.authors, b.best_book_id, bt.goodreads_book_id\n",
    "HAVING b.title LIKE '%D-Day%'\n",
    "/*I didn't actually have to use count or ratings b/c there was only one book found with d_day in the title"
   ]
  }
 ],
 "metadata": {
  "language_info": {
   "name": "python"
  }
 },
 "nbformat": 4,
 "nbformat_minor": 2
}
