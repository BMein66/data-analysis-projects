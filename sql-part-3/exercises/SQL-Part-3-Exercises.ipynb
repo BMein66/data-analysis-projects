{
    "cells": [
        {
            "cell_type": "markdown",
            "metadata": {
                "azdata_cell_guid": "c739e118-2a3a-45f9-bd51-090c836e7a7e"
            },
            "source": [
                "# SQL Part 3 Exercises: Joins\n",
                "\n",
                "This notebook works with `BooksDB`.\n",
                "\n",
                "**Questions 1-4** focus on how joins work in a more general sense.  If you are not sure how to best answer the questions, try manipulating the queries by changing the order of joins, the length of the TOP, or how they are ordered.\n",
                "\n",
                "Note: If some of the queries are not returning quickly, you can try closing and restarting Visual Studio Code after a few minutes.\n",
                "\n",
                "In **questions 5-8**, you will be asked to join tables to find results about titles, tags, and the books users want to read.\n",
                "\n",
                "As you go through the questions, you will see 'Minimum Desired Output'.  This will provide you with the bare minimum columns needed to answer the questions.  When you write the queries, add as many additional columns as you need to best find your answers."
            ]
        },
        {
            "cell_type": "markdown",
            "metadata": {
                "azdata_cell_guid": "cdfaf133-068f-496d-8ecb-ecfde5c8d9f5"
            },
            "source": [
                "## QUESTION 1:  Exploring a `LEFT JOIN` using the `books` and `to_read` tables\n",
                "\n",
                "The code block below has been commented out. To answer this question, you will need to uncomment it by removing the `/*` (line 1) and `*/` (line 16).\n",
                "\n",
                "**Part A:** Look at Query 1, which table is the 'Left' table and which is the 'Right'?\n",
                "\n",
                "> Your Answer:  The LEFT table is \"books\", and the right table is \"to_read\"\n",
                "\n",
                "**Part B:** Using table 2, answer the following questions: \n",
                "- When we added a `WHERE tr.user_id IS NOT NULL` clause (line 14), how did the table change?  Why?\n",
                "\n",
                "> Your Answer: The results (rows returned) are different because when you add IS NOT NULL, it does not include in the output any row/case that has null values in the right database (i.e., that only exist in the left database but not in the right database). It essentially creates an INNER JOIN."
            ]
        },
        {
            "cell_type": "code",
            "execution_count": null,
            "metadata": {
                "azdata_cell_guid": "a2038d22-5f42-4539-af89-d1fd36c66d47",
                "language": "sql"
            },
            "outputs": [],
            "source": [
                "/*\n",
                "-- Query 1: LEFT JOIN\n",
                "SELECT TOP 50 b.title, b.average_rating, b.books_count,tr.user_id, tr.book_id\n",
                "FROM BooksDB.dbo.books AS b\n",
                "LEFT JOIN BooksDB.dbo.to_read AS tr\n",
                "ON b.best_book_id = tr.book_id\n",
                "ORDER BY b.average_rating;\n",
                "\n",
                "-- Query 2: LEFT JOIN USING 'IS NOT NULL'\n",
                "SELECT TOP 50 b.title, b.average_rating, b.books_count,tr.user_id, tr.book_id\n",
                "FROM BooksDB.dbo.books AS b\n",
                "LEFT JOIN BooksDB.dbo.to_read AS tr\n",
                "ON b.best_book_id = tr.book_id\n",
                "WHERE tr.user_id IS NOT NULL\n",
                "ORDER BY b.average_rating;\n",
                "*/"
            ]
        },
        {
            "cell_type": "markdown",
            "metadata": {
                "azdata_cell_guid": "e5b293e1-3c99-4696-93db-71e77df50757"
            },
            "source": [
                "## **QUESTION 2:** Exploring `RIGHT` joins with the `books` and `to_read` tables\n",
                "\n",
                "You will need to uncomment the query to answer the question.\n",
                "\n",
                "**Part A:** Looking at the query, which table is the 'Left' and which is the 'Right'?\n",
                "\n",
                "> Your Answer: The left table is books (b) and the right table is to_read (tr)\n",
                "\n",
                "**Part B:** How do the RIGHT-joined tables differ from the LEFT-joined tables in Question 1?\n",
                "\n",
                "> Your Answer: In Q2 results, ALL book_ids from the right table (to_read) are included, and if there are not matching book_ids from the left table (books), NULL values are returned. The opposite is true in Q1.....all of the IDs from \"books\" are included, and if there are IDs that weren't represented in 'to read', they just get null values for those variables."
            ]
        },
        {
            "cell_type": "code",
            "execution_count": null,
            "metadata": {
                "azdata_cell_guid": "3916ff86-e45b-47d3-ae94-c1ee7903c7b9",
                "language": "sql"
            },
            "outputs": [],
            "source": [
                "/*\n",
                "-- Query 1: RIGHT JOIN\n",
                "SELECT TOP 300 b.title, b.average_rating, b.books_count, tr.user_id, tr.book_id\n",
                "FROM BooksDB.dbo.books AS b\n",
                "RIGHT JOIN BooksDB.dbo.to_read AS tr\n",
                "ON b.best_book_id = tr.book_id;\n",
                "*/"
            ]
        },
        {
            "cell_type": "markdown",
            "metadata": {
                "azdata_cell_guid": "db92a0de-8cbe-47b2-a989-c77138c427fd"
            },
            "source": [
                "## **QUESTION 3:** Exploring FULL JOINS with the `books` and `to_read` tables\n",
                "\n",
                "You will need to uncomment the Query to answer the question.\n",
                "\n",
                "**Part A:**  Look at the table and explore how it was populated.  Try manipulating the query to better understand how this table works.  Try adding a WHERE clause, or ORDER BY a column on the `books` table.  Based on your exploration, can you think of when you might want a FULL join rather than a LEFT, RIGHT, or INNER?\n",
                "\n",
                "> Your Answer: In 'books', each row is a book. In 'to_read', each row is a person in the goodreads database. The full join included ALL VALUES from both datasets, so now each row is a single book marked as to-read by a single person. So each book is typically represented as more than one row, and each person is likely represented as more than one row. The results where user_id and book_id are null are those where no individual user saved that book as to-read. The results where title, avgrating and book_count are null are those bookIDs represented in the to_read table but not in the books table. (I'm a bit confused about why that would be the case, but I guess it's possible!)  \n",
                "\n",
                "What kind of join you'd want to use depends on your focus---whether you're focused on the info in the left or in the right, or both so much that you don't want to look at the data unless they have all values represented."
            ]
        },
        {
            "cell_type": "code",
            "execution_count": null,
            "metadata": {
                "azdata_cell_guid": "421beb17-491d-4d0b-9a83-4383e9a878f6",
                "language": "sql"
            },
            "outputs": [],
            "source": [
                "/*\n",
                "-- FULL JOIN\n",
                "SELECT TOP 30 b.title, b.average_rating, b.books_count,tr.user_id, tr.book_id\n",
                "FROM BooksDB.dbo.books AS b\n",
                "FULL JOIN BooksDB.dbo.to_read AS tr\n",
                "ON b.book_id = tr.book_id;\n",
                "*/"
            ]
        },
        {
            "cell_type": "markdown",
            "metadata": {
                "azdata_cell_guid": "c9219b58-ba70-4f18-b40d-5a959f50ec10"
            },
            "source": [
                "## **QUESTION 4:** Exploring INNER Joins with the `books` and `to_read` tables\n",
                "\n",
                "You will need to uncomment the Query to answer the question.\n",
                "\n",
                "**Part A:**  What does an inner join do?\n",
                "\n",
                "> Your Answer: Joins the two tables by ON columns, including only the rows that have a match in both tables. \n",
                "\n",
                "**Part B:** Currently this table has an `'IS NOT NULL'` in the `WHERE` clause. Is this necessary for this table? Why or Why not?\n",
                "\n",
                "> Your Answer: Deleting the \"is not null\" does nothing, b/c if the values were null, the inner join would not include them.\n",
                "\n",
                "**Part C:**  When using SQL, you are usually returning much larger tables so every line of code will add to the compilation and return time.  Rewrite this inner join query so that it contains no redundant code.\n",
                "\n",
                "> Your Answer:  Update the query in the code box below."
            ]
        },
        {
            "cell_type": "code",
            "execution_count": null,
            "metadata": {
                "azdata_cell_guid": "6ee6b18f-d81b-46b8-857b-95e2e88bd1fd",
                "language": "sql"
            },
            "outputs": [],
            "source": [
                "/*\n",
                "-- INNER JOIN\n",
                "SELECT TOP 30 b.title, b.average_rating, b.books_count,tr.user_id, tr.book_id\n",
                "FROM BooksDB.dbo.books AS b\n",
                "INNER JOIN BooksDB.dbo.to_read AS tr\n",
                "ON b.book_id = tr.book_id\n",
                "*/"
            ]
        },
        {
            "cell_type": "markdown",
            "metadata": {
                "azdata_cell_guid": "6c20039d-2496-42c6-b5fc-db8f1ded0ce4"
            },
            "source": [
                "## **QUESTION 5:**  Using joins to find the most tagged book and the most popular tag\n",
                "\n",
                "We will be writing 3 queries to find both the most tagged book and that book's most popular tag.\n",
                "\n",
                "**Part A:**  What is the most tagged book?\n",
                "\n",
                "Start by joining the `books` and `book_tags` tables ON the `books.best_book_id` and `book_tags.goodreads_book_id`. We want the *most popular* book, so think about ordering the table in a way that will display both the book title and the number of times a book tag has been used.\n",
                "\n",
                "Minimum Desired output:_  The title of the most tagged book, and the number of times the book has been tagged.\n",
                "\n",
                "**Title:**\n",
                "\n",
                "**Part B:** How many different tags have been used for the most tagged book?\n",
                "\n",
                "Start by joining the `books` and `book_tags` tables ON the `books.best_book_id` and `book_tags.goodreads_book_id`. We want to find the *most popular* tag id, so think about ordering in a way that will display the most popular tag id.\n",
                "\n",
                "*Minimum Desired Output:* The tag id for the most popular tag used for the most tagged book.\n",
                "\n",
                "**Tag Id:**\n",
                "\n",
                "**Part C:** What is this particular tag?\n",
                "\n",
                "You may return this answer with a simple query.\n",
                "\n",
                "*Minimum Desired Output:* The tag name for the most popular tag used for the most tagged book.\n",
                "\n",
                "**Tag Name:**"
            ]
        },
        {
            "cell_type": "code",
            "execution_count": null,
            "metadata": {
                "azdata_cell_guid": "c1d7f859-cf56-424e-bd90-0203ab5a1cdd",
                "language": "sql"
            },
            "outputs": [],
            "source": [
                "-- Part A: Find the most tagged book and its name\n",
                "--each row in the 'books' table represents a single book. each book is only represented once in this table.\n",
                "--each row in the 'book_tags' table represents the combination of a single book and a single tagID...each book can be repeated in many rows b/c a single book can be associated with multiple tags\n",
                "--columns of interest from 'books':  original_title, best_book_id (match ON)\n",
                "--columns of interest from 'book_tags': goodreads_book_id (match ON), count\n",
                "SELECT b.original_title, bt.count\n",
                "FROM BooksDB.dbo.books b\n",
                "INNER JOIN BooksDB.dbo.book_tags bt\n",
                "ON b.best_book_id = bt.goodreads_book_id\n",
                "ORDER BY bt.count DESC\n",
                "--The most tagged book is \"Oh Alquimista\" (in English, \"The Alchemist\"), which has been tagged 596234 times.\n",
                "\n",
                "--Part B: How many different tags have been used for the most tagged book (Oh Alquimista)\n",
                "--columns of interest from 'books': original title, \n",
                "--columns of interest from 'book_tags': tag_id (this is what we want to count)\n",
                "--match on books.best_book_id = books.goodreads_book_id\n",
                "--functions to use COUNT DISTINCT (tagIDs), WHERE title = oh alquimista\n",
                "SELECT COUNT (DISTINCT bt.tag_id), b.ORIGINAL_TITLE\n",
                "FROM BooksDB.dbo.books b\n",
                "INNER JOIN BooksDB.dbo.book_tags bt\n",
                "ON b.best_book_id = bt.goodreads_book_id\n",
                "WHERE b.original_title LIKE 'O Alquimista'\n",
                "GROUP BY b.original_title\n",
                "--There were 100 distinct tags (rows) returned from the query\n",
                "\n",
                "--Part B again?: What is the most popular tag?\n",
                "SELECT DISTINCT bt.tag_id, bt.count, b.original_title\n",
                "FROM BooksDB.dbo.books b\n",
                "INNER JOIN BooksDB.dbo.book_tags bt\n",
                "ON b.best_book_id = bt.goodreads_book_id\n",
                "WHERE original_title LIKE 'O Alquimista'\n",
                "ORDER BY bt.count DESC\n",
                "--The most popular tag is 30574\n",
                "\n",
                "--Part C: What is the name of this tag?\n",
                "SELECT tag_id, tag_name\n",
                "FROM booksdb.dbo.tagIDs\n",
                "WHERE tag_id = 30574\n",
                "--the most popular tag name is \"to-read\"\n",
                "\n"
            ]
        },
        {
            "cell_type": "markdown",
            "metadata": {
                "azdata_cell_guid": "0afe0108-c632-4cde-b7e0-5e699c066e03"
            },
            "source": [
                "## QUESTION 6: Find a book based on a tag of your choice using joins.\n",
                "\n",
                "Some suggestions: any hobbies you like? baking, drawing, etc. how about favorite holidays, subjects, animals, etc?\n",
                "\n",
                "**Part A:** Explore the tags table for a tag of your choice.  Suggested ideas, try searching for one of your hobbies, a favorite time of year, favorite animal, etc.  Start by querying the tag table for your chosen tag.  (_Hint:_ in order to make sure you find all combinations of your tags, use the wildcard).  If your query returns more than one result, pick your favorite.\n",
                "\n",
                "Here is an example.  Alyce wanted to search for Halloween books.  She used the wildcard, `%halloween%` and 8 different combinations were found.  Alyce selected `halloween-storytime`, with a tag id of 13877.\n",
                "\n",
                "*Minimum Desired Output:* tag name and tag id\n",
                "\n",
                "**Your Tag and Tag Id:**\n",
                "\n",
                "**Part B:** Now that you have the tag id, find the title that was tagged the most with this tag by joining the `books` and `books_tags` tables.\n",
                "\n",
                "Alyce joined the book table with the tags table and discovered that \"The Little Old Lady Who Was Not Afraid of Anything\" was tagged as `halloween-storytime` the most.\n",
                "\n",
                "*Minimum Desired Output:* title and tag count\n",
                "\n",
                "**Your Title and Number of times the tag was used:**"
            ]
        },
        {
            "cell_type": "code",
            "execution_count": null,
            "metadata": {
                "azdata_cell_guid": "761b4d46-2218-486e-8336-cda901bc8551",
                "language": "sql"
            },
            "outputs": [],
            "source": [
                "-- PART A: FIND A TAGID AND TAGNAME FOR A TOPIC OF INTEREST TO YOU\n",
                "SELECT *\n",
                "FROM BooksDB.dbo.tags\n",
                "\n",
                "SELECT *\n",
                "FROM BooksDB.dbo.tags\n",
                "WHERE TAG_NAME LIKE '%COOKBOOK%'\n",
                "\n",
                "SELECT *\n",
                "FROM BooksDB.dbo.tags\n",
                "WHERE TAG_NAME LIKE 'VEGETARIAN-COOKBOOKS'\n",
                "--I identified tag_name=Vegetarian-Cookbooks with TagID=31801\n",
                "\n",
                "--PART B: Find the title tagged most with TagID=31801\n",
                "SELECT bt.tag_id, b.original_title, bt.count\n",
                "FROM BooksDB.dbo.book_tags bt\n",
                "LEFT JOIN booksDB.dbo.books b ON bt.goodreads_book_id = b.best_book_id\n",
                "WHERE bt.tag_id = '31801'\n",
                "--there were 4 titles with the tag ID = 31801. The one with the highest count was The Moosewood Cookbook\n"
            ]
        },
        {
            "cell_type": "markdown",
            "metadata": {
                "azdata_cell_guid": "d684cef6-783d-43d1-a017-f5e5d83c46da"
            },
            "source": [
                "## **QUESTION 7:** What are the top 10 most popular book titles on the 'to read' list?\n",
                "\n",
                "**Part A:**  Explore how the `to_read` and `books` tables are organized, and then join them.  What will you use as a key?\n",
                "\n",
                "Your Answer:\n",
                "\n",
                "**Part B:** Organize your newly joined table in a way that groups popularity based on the title based on users.\n",
                "\n",
                "*Hint:* Suggest using an alias for the aggregation you will need to run on the `user_id`\n",
                "\n",
                "*Minimum Desired Output:* title and aliased column"
            ]
        },
        {
            "cell_type": "code",
            "execution_count": null,
            "metadata": {
                "azdata_cell_guid": "3247ef18-3603-47b0-b2a1-0b6a70e8de33",
                "language": "sql"
            },
            "outputs": [],
            "source": [
                "-- PART A:  Explore and join the 'to_read' and 'books' tables. \n",
                "--In the 'to_read' table, each row represents a single user-bookID pair, that is, a userID and ONE of the books they wish to read. So most userIDs have multiple rows associated with them\n",
                "--in the 'books' table, each row represents a book. \n",
                "--Match ON book_id from both\n",
                "/*I decided to do an inner join b/c I only wanted to use the data that had non-null information from both tables. If a book was not on the 'to-read' list, then I don't want it in my dataset \n",
                "anyway. Each row represents a combination of bookid/title, authors, and a single user who wants to read it. So each book and each person could be represented in many rows. */\n",
                "\n",
                "SELECT b.book_id, b.title, b.authors, user_id AS reader\n",
                "FROM booksdb.dbo.books b\n",
                "INNER JOIN booksdb.dbo.to_read tr on b.book_id = tr.book_id\n",
                "\n",
                "--PART B: a set of results with the most popular (highest count in to_read list) 10 book.ids and the corresponding title and author\n",
                "--This gives me the top 10 bookIDs and a count of them from the 'to_read'\n",
                "\n",
                "SELECT TOP 10 COUNT (tr.user_id) AS POPULARITY, b.title\n",
                "FROM booksdb.dbo.to_read AS tr\n",
                "INNER JOIN booksdb.dbo.books AS b ON b.book_ID = tr.book_ID\n",
                "GROUP BY b.title\n",
                "ordeR BY POPULARITY DESC"
            ]
        },
        {
            "cell_type": "markdown",
            "metadata": {
                "azdata_cell_guid": "d7f2f6a3-ecc3-4629-aacd-312723da07af"
            },
            "source": [
                "## **QUESTION 8:** Largest 'To Read' Lists\n",
                "\n",
                "**Part A:**  Create a query that returns a table that contains the top 10 users with the most number of titles on their 'to read' list.    Group all the entries by `user_id`.\n",
                "\n",
                "_Hint:_ You might want an alias for the titles.\n",
                "\n",
                "_Minimum Desired Output:_ `user_id` and your aliased column of titles.\n",
                "\n",
                "**Part B:**  The longest list length is 15 titles total, and is shared by 4 different users.  Select one of the uses and print out their entire 'to read' list."
            ]
        },
        {
            "cell_type": "code",
            "execution_count": null,
            "metadata": {
                "azdata_cell_guid": "a7ae1df0-4d43-4e27-b635-eed926d2311f",
                "language": "sql"
            },
            "outputs": [],
            "source": [
                "--Return table containing top 10 users with the most titles on their 'to_read\" list, grouped by user_id. \n",
                "SELECT TOP 10 COUNT(b.title) as ttlbooks_toread, tr.user_id\n",
                "FROM booksdb.dbo.to_read as tr\n",
                "INNER JOIN booksdb.dbo.books as b ON tr.book_id = b.book_id\n",
                "GROUP by tr.user_id\n",
                "ORDER BY ttlbooks_toread DESC\n",
                "\n",
                "--Select one of the users and print out their 'to-read' list\n",
                "SELECT b.title, tr.user_id\n",
                "FROM booksdb.dbo.to_read as tr\n",
                "INNER JOIN booksdb.dbo.books as b ON tr.book_id = b.book_id\n",
                "Where tr.user_id = 14771\n",
                "\n",
                "\n"
            ]
        }
    ],
    "metadata": {
        "kernelspec": {
            "display_name": "SQL",
            "language": "sql",
            "name": "SQL"
        },
        "language_info": {
            "name": "sql",
            "version": ""
        }
    },
    "nbformat": 4,
    "nbformat_minor": 2
}
