{
 "cells": [
  {
   "cell_type": "markdown",
   "metadata": {},
   "source": [
    "# SQL Part 1 Studio\n",
    "\n",
    "Let's practice your SQL querying skills!  For each question, work along in the notebook adding your query and answering the questions.\n",
    "\n",
    "## Dataset\n",
    "\n",
    "We will be using the same Goodreads dataset that was used for the exercises in the prep work. Feel free to reference your exercises notebook as you work on the studio. The Kaggle dataset can be found here: [goodbooks-10k](https://www.kaggle.com/zygmunt/goodbooks-10k).\n",
    "\n",
    "You can access **BooksDB** in the Launchcode server.\n",
    "\n",
    "## Business Issue\n",
    "\n",
    "You work for a small independent book store and you want to increase sales by running a new marketing campaign. Before you can design your campaign, you need to get more familiar with what is going on with the world of book publishing. Time to get more familar with BooksDB!"
   ]
  },
  {
   "cell_type": "markdown",
   "metadata": {},
   "source": [
    "## Part 1: BooksDB Questions\n",
    "\n",
    "Question 1: Write a query of the `books` table that returns the top 100 results and includes `book_id`, `authors`, `title`, and `average_rating`. Use an alias for at least one column and sort the result set in descending order of rating. What is the number one book?"
   ]
  },
  {
   "cell_type": "code",
   "execution_count": null,
   "metadata": {
    "vscode": {
     "languageId": "sql"
    }
   },
   "outputs": [],
   "source": [
    "-- return top 100 results\n",
    "SELECT TOP 100 book_id, authors, average_rating AS avgrating, original_title\n",
    "FROM BooksDB.dbo.books\n",
    "ORDER BY average_rating DESC;\n",
    "\n",
    "*The #1 book is Bill WAterson's Complete Book of Calvin & Hobbes (top one in results table)"
   ]
  },
  {
   "cell_type": "markdown",
   "metadata": {},
   "source": [
    "Question 2: Write a query to find the least popular book."
   ]
  },
  {
   "cell_type": "code",
   "execution_count": null,
   "metadata": {
    "vscode": {
     "languageId": "sql"
    }
   },
   "outputs": [],
   "source": [
    "-- return least popular book\n",
    "SELECT MIN (average_rating) AS least_popular\n",
    "FROM BooksDB.dbo.books\n",
    "\n",
    "--find title and authors of that book\n",
    "SELECT original_title, authors, average_rating\n",
    "FROM BooksDB.dbo.books\n",
    "WHERE average_rating = 2.47\n"
   ]
  },
  {
   "cell_type": "markdown",
   "metadata": {},
   "source": [
    "Question 3: Which tag is the most popular?"
   ]
  },
  {
   "cell_type": "code",
   "execution_count": null,
   "metadata": {
    "vscode": {
     "languageId": "sql"
    }
   },
   "outputs": [],
   "source": [
    "SELECT MAX (tag_id) AS most_popular_tag\n",
    "FROM BOOKSDB.dbo.book_tags;"
   ]
  },
  {
   "cell_type": "markdown",
   "metadata": {},
   "source": [
    "Question 4: What is the name of the most popular tag?"
   ]
  },
  {
   "cell_type": "code",
   "execution_count": null,
   "metadata": {
    "vscode": {
     "languageId": "sql"
    }
   },
   "outputs": [],
   "source": [
    "-- return name of most popular tag by using info from Q3 in new query of tags table\n",
    "SELECT tag_name\n",
    "FROM BooksDB.dbo.tags\n",
    "WHERE tag_id = 34251\n",
    "\n"
   ]
  },
  {
   "cell_type": "markdown",
   "metadata": {},
   "source": [
    "Question 5: How many books where released in the first decade of 2000?"
   ]
  },
  {
   "cell_type": "code",
   "execution_count": null,
   "metadata": {
    "vscode": {
     "languageId": "sql"
    }
   },
   "outputs": [],
   "source": [
    "-- return number of books published in the first decade of 2000\n",
    "SELECT COUNT(*) AS No_books_published_2000_decade\n",
    "FROM BOOKSDB.dbo.books\n",
    "WHERE original_publication_year BETWEEN 2000 AND 2009;"
   ]
  },
  {
   "cell_type": "markdown",
   "metadata": {},
   "source": [
    "Question 6: How many book titles contain the word, \"happy\"?"
   ]
  },
  {
   "cell_type": "code",
   "execution_count": null,
   "metadata": {
    "vscode": {
     "languageId": "sql"
    }
   },
   "outputs": [],
   "source": [
    "-- return number of books that contain the word, \"happy\"\n",
    "SELECT COUNT (original_title) AS titles_with_happy\n",
    "FROM BOOKSDB.dbo.books\n",
    "WHERE original_title LIKE '%happy%';"
   ]
  },
  {
   "cell_type": "markdown",
   "metadata": {},
   "source": [
    "Question 7: List the books from the top 3 authors from Question 1.  If there is more than one author just use the first one. Sort the title alphabetically by `author` and then by `average_rating`, best rated to lowest. Does this order matter in sorting?"
   ]
  },
  {
   "cell_type": "code",
   "execution_count": null,
   "metadata": {
    "vscode": {
     "languageId": "sql"
    }
   },
   "outputs": [],
   "source": [
    "-- return all books from the top 3 authors, sort by author and rating\n",
    "SELECT TOP 3 book_id, authors, original_title, average_rating\n",
    "FROM BooksDB.dbo.books\n",
    "ORDER BY average_rating DESC, authors\n",
    "\n",
    "*the order does matter because when you sort by author first you don't get the top 3 books"
   ]
  },
  {
   "cell_type": "markdown",
   "metadata": {},
   "source": [
    "Question 8: Write a query that returns the number of authors whose first name is between rock and roll."
   ]
  },
  {
   "cell_type": "code",
   "execution_count": null,
   "metadata": {
    "vscode": {
     "languageId": "sql"
    }
   },
   "outputs": [],
   "source": [
    "-- return number of authors whose first name is between rock and roll\n",
    "SELECT *\n",
    "FROM BooksDB.dbo.books\n",
    "WHERE authors BETWEEN 'rock' AND 'roll';"
   ]
  },
  {
   "cell_type": "markdown",
   "metadata": {},
   "source": [
    "## Part 2: Find the Answers to Your Own Questions\n",
    "\n",
    "Your Question:  Click here to add a questions that you want to answer and write a query to find the answer!"
   ]
  },
  {
   "cell_type": "code",
   "execution_count": null,
   "metadata": {
    "vscode": {
     "languageId": "sql"
    }
   },
   "outputs": [],
   "source": [
    "-- How many authors in this database share my firstname? My lastname?\n",
    "SELECT COUNT(*) authors \n",
    "FROM BooksDB.dbo.books\n",
    "WHERE authors LIKE '%Elizabeth%' OR authors LIKE '%Betsy%'\n",
    "\n",
    "SELECT COUNT(*) authors \n",
    "FROM BooksDB.dbo.books\n",
    "WHERE authors LIKE '%Meinz%'"
   ]
  },
  {
   "cell_type": "markdown",
   "metadata": {},
   "source": [
    "Your Question:  Click here to add a questions that you want to answer and write a query to find the answer!"
   ]
  },
  {
   "cell_type": "code",
   "execution_count": null,
   "metadata": {
    "vscode": {
     "languageId": "sql"
    }
   },
   "outputs": [],
   "source": [
    "-- What were the top 10 books published the year I was born? (with title and author)\n",
    "\n",
    "SELECT TOP 10 authors, average_rating AS avgrating, original_title\n",
    "FROM BooksDB.dbo.books\n",
    "WHERE original_publication_year = 1972\n",
    "ORDER BY average_rating DESC"
   ]
  },
  {
   "cell_type": "markdown",
   "metadata": {},
   "source": [
    "If you cannot think of a question you want to ask, here are some question examples to help jumpstart your brainstorming process:\n",
    "\n",
    "1. What book has the longest title?\n",
    "1. Which author has written the most books?\n",
    "1. What were the top ten books published the year I was born?"
   ]
  }
 ],
 "metadata": {
  "language_info": {
   "name": "python"
  }
 },
 "nbformat": 4,
 "nbformat_minor": 2
}
